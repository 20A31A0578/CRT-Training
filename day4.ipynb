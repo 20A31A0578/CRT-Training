{
 "cells": [
  {
   "cell_type": "code",
   "execution_count": null,
   "id": "47d97c5f",
   "metadata": {},
   "outputs": [],
   "source": []
  },
  {
   "cell_type": "code",
   "execution_count": 1,
   "id": "da33cacb",
   "metadata": {},
   "outputs": [
    {
     "name": "stdout",
     "output_type": "stream",
     "text": [
      "[0, 0, 0, 0, 0]\n"
     ]
    }
   ],
   "source": [
    "#repetition operator\n",
    "l=[0]*5\n",
    "print(l)"
   ]
  },
  {
   "cell_type": "code",
   "execution_count": 3,
   "id": "0249bf9c",
   "metadata": {},
   "outputs": [
    {
     "name": "stdout",
     "output_type": "stream",
     "text": [
      "abc-abc-abc-abc-abc-\n"
     ]
    }
   ],
   "source": [
    "l=\"abc-\"*5\n",
    "print(l)"
   ]
  },
  {
   "cell_type": "code",
   "execution_count": null,
   "id": "238cceab",
   "metadata": {},
   "outputs": [],
   "source": [
    "#XOR operator\n",
    "#&-if any operator is true=true\n",
    "#|-if operator same =false,else two diff =true"
   ]
  },
  {
   "cell_type": "code",
   "execution_count": null,
   "id": "6335ad71",
   "metadata": {},
   "outputs": [],
   "source": [
    "#packages\n",
    "different files in"
   ]
  },
  {
   "cell_type": "code",
   "execution_count": null,
   "id": "8553259a",
   "metadata": {},
   "outputs": [],
   "source": [
    "#OOPS=OBJECT ORIENTED PROGRAMMING\n",
    "PROCEDURE PROGRAMMING=INPUT AND OUTPUT \n",
    "DEFINE CLASS\n",
    "CLASS LO VARIABLES AND METHODS ENTI\n",
    "in java,c++=this keyword,in python=self keyword"
   ]
  },
  {
   "cell_type": "code",
   "execution_count": null,
   "id": "c4627c53",
   "metadata": {},
   "outputs": [],
   "source": [
    "class Student:\n",
    "    name=\"\"\n",
    "    roll_number=\"\"\n",
    "    branch=\"\"\n",
    "    marks=0\n",
    "    attendence=0.0\n",
    "    is_using_transport=False\n",
    "    def view_attendence(self):\n",
    "        pass\n",
    "    def view_marks(self):\n",
    "        pass\n",
    "    def view_name(self):\n",
    "        pass\n",
    "    def update_name(self, new_name):\n",
    "        pass"
   ]
  },
  {
   "cell_type": "code",
   "execution_count": null,
   "id": "e45fc762",
   "metadata": {},
   "outputs": [],
   "source": [
    "#constructor and destructor\n",
    "__init__=constructor in py\n",
    "called when object of a class is called\n",
    "object is create when method is called\n"
   ]
  },
  {
   "cell_type": "code",
   "execution_count": 8,
   "id": "7d7f9931",
   "metadata": {},
   "outputs": [
    {
     "name": "stdout",
     "output_type": "stream",
     "text": [
      "object created\n",
      "Mukesh\n"
     ]
    }
   ],
   "source": [
    "class Student:\n",
    "    student_name=\"\"\n",
    "    def __init__(self,name):\n",
    "        print (\"object created\")\n",
    "        print(name)\n",
    "        \n",
    "s1=Student(\"Mukesh\")"
   ]
  },
  {
   "cell_type": "code",
   "execution_count": 10,
   "id": "7c645ed5",
   "metadata": {},
   "outputs": [
    {
     "name": "stdout",
     "output_type": "stream",
     "text": [
      "object created\n",
      "Mukesh\n",
      "no name\n"
     ]
    }
   ],
   "source": [
    "class Student:   #self \n",
    "    student_name=\"no name\" ##\n",
    "    def __init__(self,name):\n",
    "        print (\"object created\")\n",
    "        print(name)\n",
    "        print(self.student_name)\n",
    "s1=Student(\"Mukesh\")"
   ]
  },
  {
   "cell_type": "code",
   "execution_count": 13,
   "id": "dc0ee4b7",
   "metadata": {},
   "outputs": [
    {
     "name": "stdout",
     "output_type": "stream",
     "text": [
      "Mukesh\n",
      "Ramesh\n",
      "Sukesh\n"
     ]
    }
   ],
   "source": [
    "class Student:   #self \n",
    "    student_name=\"no name\" \n",
    "    def __init__(self,name):\n",
    "        self.student_name=name\n",
    "        print(name)\n",
    "s1=Student(\"Mukesh\")\n",
    "s1=Student(\"Ramesh\")\n",
    "s1=Student(\"Sukesh\")"
   ]
  },
  {
   "cell_type": "code",
   "execution_count": 21,
   "id": "aa25950e",
   "metadata": {},
   "outputs": [
    {
     "name": "stdout",
     "output_type": "stream",
     "text": [
      "5\n",
      "1 2 3 4 5\n",
      "3\n",
      "[3, 4, 5, 1, 2]\n"
     ]
    }
   ],
   "source": [
    "n=int(input())\n",
    "if(n<=0):\n",
    "    print(\"Invali Input\")\n",
    "else:\n",
    "    arr=list(map(int,input().split()))\n",
    "    k=int(input())\n",
    "    if(k>n):\n",
    "        print(\"Invalid Input\")\n",
    "    else:\n",
    "        first=arr[:n-k]\n",
    "        last=arr[n-k:]\n",
    "        print(last+first)"
   ]
  },
  {
   "cell_type": "code",
   "execution_count": 25,
   "id": "dc86ee03",
   "metadata": {},
   "outputs": [
    {
     "name": "stdout",
     "output_type": "stream",
     "text": [
      "7\n",
      "5 1 -8 4 2 4 3\n",
      "7\n",
      "2\n"
     ]
    }
   ],
   "source": [
    "#pairs \n",
    "n=int(input())\n",
    "arr=list(map(int,input().split()))\n",
    "k=int(input())\n",
    "res=[]\n",
    "for i in range(0,n-1):\n",
    "    for j in range(i+1,n):\n",
    "        if arr[i]+arr[j]==k:\n",
    "            res.append([arr[i],arr[j]])\n",
    "ans=[]\n",
    "for i in res:\n",
    "    if i not in ans:\n",
    "        ans.append(i)\n",
    "        \n",
    "print(len(ans))"
   ]
  },
  {
   "cell_type": "code",
   "execution_count": 28,
   "id": "f159a419",
   "metadata": {},
   "outputs": [
    {
     "name": "stdout",
     "output_type": "stream",
     "text": [
      "7\n",
      "1 3 4 6 1 3 6\n",
      "[1, 3, 6]\n"
     ]
    }
   ],
   "source": [
    "#print repeated elements\n",
    "n=int(input())\n",
    "arr=list(map(int,input().split()))\n",
    "flag=False\n",
    "ans=[]\n",
    "for i in arr:\n",
    "    if arr.count(i)>1 and i not in ans:\n",
    "        ans.append(i)\n",
    "print(ans)"
   ]
  },
  {
   "cell_type": "code",
   "execution_count": null,
   "id": "7b34aa36",
   "metadata": {},
   "outputs": [],
   "source": [
    "constructor is used for database connections"
   ]
  },
  {
   "cell_type": "code",
   "execution_count": 35,
   "id": "1cce39db",
   "metadata": {},
   "outputs": [
    {
     "name": "stdout",
     "output_type": "stream",
     "text": [
      "bankings\n",
      "23\n",
      "sbi\n"
     ]
    }
   ],
   "source": [
    "class customer:\n",
    "    customer_name=\"\"\n",
    "    acc_number=0\n",
    "    branch=\"\"\n",
    "    def __init__(self,customer_name,acc_number,branch):\n",
    "        #self.customer_name=customer_name\n",
    "        print(customer_name)\n",
    "        print(acc_number)\n",
    "        print(branch)\n",
    "c1=customer(\"bankings\",23,\"sbi\")\n"
   ]
  },
  {
   "cell_type": "code",
   "execution_count": 39,
   "id": "0951116e",
   "metadata": {},
   "outputs": [
    {
     "name": "stdout",
     "output_type": "stream",
     "text": [
      "Account number:12323434\n"
     ]
    },
    {
     "ename": "AttributeError",
     "evalue": "'Bank' object has no attribute 'account'",
     "output_type": "error",
     "traceback": [
      "\u001b[1;31m---------------------------------------------------------------------------\u001b[0m",
      "\u001b[1;31mAttributeError\u001b[0m                            Traceback (most recent call last)",
      "\u001b[1;32m~\\AppData\\Local\\Temp\\ipykernel_11796\\3837976328.py\u001b[0m in \u001b[0;36m<module>\u001b[1;34m\u001b[0m\n\u001b[0;32m     15\u001b[0m         \u001b[0mprint\u001b[0m\u001b[1;33m(\u001b[0m\u001b[0mself\u001b[0m\u001b[1;33m.\u001b[0m\u001b[0maccount\u001b[0m\u001b[1;33m)\u001b[0m\u001b[1;33m\u001b[0m\u001b[1;33m\u001b[0m\u001b[0m\n\u001b[0;32m     16\u001b[0m \u001b[0ms1\u001b[0m\u001b[1;33m=\u001b[0m\u001b[0mBank\u001b[0m\u001b[1;33m(\u001b[0m\u001b[1;36m12323434\u001b[0m\u001b[1;33m,\u001b[0m\u001b[1;34m\"edu\"\u001b[0m\u001b[1;33m,\u001b[0m\u001b[1;34m\"fghj\"\u001b[0m\u001b[1;33m)\u001b[0m\u001b[1;33m\u001b[0m\u001b[1;33m\u001b[0m\u001b[0m\n\u001b[1;32m---> 17\u001b[1;33m \u001b[0ms1\u001b[0m\u001b[1;33m.\u001b[0m\u001b[0mprint_details_of_user\u001b[0m\u001b[1;33m(\u001b[0m\u001b[1;33m)\u001b[0m\u001b[1;33m\u001b[0m\u001b[1;33m\u001b[0m\u001b[0m\n\u001b[0m",
      "\u001b[1;32m~\\AppData\\Local\\Temp\\ipykernel_11796\\3837976328.py\u001b[0m in \u001b[0;36mprint_details_of_user\u001b[1;34m(self)\u001b[0m\n\u001b[0;32m     13\u001b[0m     \u001b[1;32mdef\u001b[0m \u001b[0mprint_details_of_user\u001b[0m\u001b[1;33m(\u001b[0m\u001b[0mself\u001b[0m\u001b[1;33m)\u001b[0m\u001b[1;33m:\u001b[0m\u001b[1;33m\u001b[0m\u001b[1;33m\u001b[0m\u001b[0m\n\u001b[0;32m     14\u001b[0m         \u001b[0mprint\u001b[0m\u001b[1;33m(\u001b[0m\u001b[1;34mf\"Account number:{self.account_no}\"\u001b[0m\u001b[1;33m)\u001b[0m\u001b[1;33m\u001b[0m\u001b[1;33m\u001b[0m\u001b[0m\n\u001b[1;32m---> 15\u001b[1;33m         \u001b[0mprint\u001b[0m\u001b[1;33m(\u001b[0m\u001b[0mself\u001b[0m\u001b[1;33m.\u001b[0m\u001b[0maccount\u001b[0m\u001b[1;33m)\u001b[0m\u001b[1;33m\u001b[0m\u001b[1;33m\u001b[0m\u001b[0m\n\u001b[0m\u001b[0;32m     16\u001b[0m \u001b[0ms1\u001b[0m\u001b[1;33m=\u001b[0m\u001b[0mBank\u001b[0m\u001b[1;33m(\u001b[0m\u001b[1;36m12323434\u001b[0m\u001b[1;33m,\u001b[0m\u001b[1;34m\"edu\"\u001b[0m\u001b[1;33m,\u001b[0m\u001b[1;34m\"fghj\"\u001b[0m\u001b[1;33m)\u001b[0m\u001b[1;33m\u001b[0m\u001b[1;33m\u001b[0m\u001b[0m\n\u001b[0;32m     17\u001b[0m \u001b[0ms1\u001b[0m\u001b[1;33m.\u001b[0m\u001b[0mprint_details_of_user\u001b[0m\u001b[1;33m(\u001b[0m\u001b[1;33m)\u001b[0m\u001b[1;33m\u001b[0m\u001b[1;33m\u001b[0m\u001b[0m\n",
      "\u001b[1;31mAttributeError\u001b[0m: 'Bank' object has no attribute 'account'"
     ]
    }
   ],
   "source": [
    "class Bank:\n",
    "    account_IFSC=\"\"\n",
    "    account_no=0\n",
    "    def __init__(self,account_no,user_name,branch):\n",
    "        self.account_no=account_no\n",
    "        self.user_name=user_name\n",
    "        self.branch=branch\n",
    "        self.__password=\"random password\"\n",
    "        self.generateIFSC()\n",
    "    def generateIFSC(self):\n",
    "        account_IFSC=f\"IFSC{self.branch}{self.account_no}\"\n",
    "        self.account_IFSC=account_IFSC\n",
    "    def print_details_of_user(self):\n",
    "        print(f\"Account number:{self.account_no}\")\n",
    "        print(self.account)\n",
    "s1=Bank(12323434,\"edu\",\"fghj\")\n",
    "s1.print_details_of_user()"
   ]
  },
  {
   "cell_type": "code",
   "execution_count": 50,
   "id": "caa0538f",
   "metadata": {},
   "outputs": [],
   "source": [
    "class UserClass:   #USER\n",
    "    full_name=\"\"\n",
    "    email=\"\"\n",
    "    __password=\"\"\n",
    "    mobile_number=\"\"\n",
    "    def __init__(self,name,email,passsword):\n",
    "        self.full_name=name\n",
    "        self.email=email\n",
    "        self.__password=password\n",
    "    def update_name(self,new_name):\n",
    "        self.full_name=new_name\n",
    "    def get_name(self,name):\n",
    "        return self.full_name\n",
    "    \"\"\" setter method for private variable password \"\"\"\n",
    "    def update_password(self,new_pasword):\n",
    "        self.__password=new_password\n",
    "    def update_mobile_number(self,new_nummber):\n",
    "        self.mobile_nummber=new_nummber\n",
    "    \"\"\" getter method for private variable password \"\"\"\n",
    "    def get_user_password(self):\n",
    "        return self.__password\n",
    "        "
   ]
  },
  {
   "cell_type": "code",
   "execution_count": null,
   "id": "c5735d17",
   "metadata": {},
   "outputs": [],
   "source": [
    "s=input()\n",
    "\n",
    "if \"gmail.com\" in s and \"@\" in s:\n",
    "    if(s[0] in range(65,122)):\n",
    "        print(\"Valid email\")\n",
    "else:\n",
    "    print(\"re enter\")\n",
    "    "
   ]
  },
  {
   "cell_type": "code",
   "execution_count": 42,
   "id": "4a44ed98",
   "metadata": {},
   "outputs": [
    {
     "name": "stdout",
     "output_type": "stream",
     "text": [
      "Welcome User\n",
      "1. Register\n",
      "2.Login\n",
      "3.Exit\n"
     ]
    }
   ],
   "source": [
    "class Login:\n",
    "    __db=[]\n",
    "    def __init__(self):\n",
    "        self.print_menu()\n",
    "    def print_menu(self):\n",
    "        print(\"Welcome User\")\n",
    "        print(\"1. Register\")\n",
    "        print(\"2.Login\")\n",
    "        print(\"3.Exit\")\n",
    "    def create_User(self,name,email,password):\n",
    "        new_user=UserClass(name,email,password)\n",
    "        self.__db.append(new_user)\n",
    "    def validate_user(self,email,pasword):\n",
    "        pass\n",
    "obj=Login()"
   ]
  },
  {
   "cell_type": "code",
   "execution_count": 54,
   "id": "d9ea153b",
   "metadata": {},
   "outputs": [
    {
     "ename": "ModuleNotFoundError",
     "evalue": "No module named 'User'",
     "output_type": "error",
     "traceback": [
      "\u001b[1;31m---------------------------------------------------------------------------\u001b[0m",
      "\u001b[1;31mModuleNotFoundError\u001b[0m                       Traceback (most recent call last)",
      "\u001b[1;32m~\\AppData\\Local\\Temp\\ipykernel_11796\\2309035831.py\u001b[0m in \u001b[0;36m<module>\u001b[1;34m\u001b[0m\n\u001b[1;32m----> 1\u001b[1;33m \u001b[1;32mfrom\u001b[0m \u001b[0mUser\u001b[0m \u001b[1;32mimport\u001b[0m \u001b[0mUserClass\u001b[0m\u001b[1;33m\u001b[0m\u001b[1;33m\u001b[0m\u001b[0m\n\u001b[0m\u001b[0;32m      2\u001b[0m \u001b[1;32mclass\u001b[0m \u001b[0mLogin\u001b[0m\u001b[1;33m:\u001b[0m\u001b[1;33m\u001b[0m\u001b[1;33m\u001b[0m\u001b[0m\n\u001b[0;32m      3\u001b[0m     \u001b[0m__db\u001b[0m\u001b[1;33m=\u001b[0m\u001b[1;33m[\u001b[0m\u001b[1;33m]\u001b[0m\u001b[1;33m\u001b[0m\u001b[1;33m\u001b[0m\u001b[0m\n\u001b[0;32m      4\u001b[0m     \u001b[1;32mdef\u001b[0m \u001b[0m__init__\u001b[0m\u001b[1;33m(\u001b[0m\u001b[0mself\u001b[0m\u001b[1;33m)\u001b[0m\u001b[1;33m:\u001b[0m\u001b[1;33m\u001b[0m\u001b[1;33m\u001b[0m\u001b[0m\n\u001b[0;32m      5\u001b[0m         \u001b[0mself\u001b[0m\u001b[1;33m.\u001b[0m\u001b[0mprint_menu\u001b[0m\u001b[1;33m(\u001b[0m\u001b[1;33m)\u001b[0m\u001b[1;33m\u001b[0m\u001b[1;33m\u001b[0m\u001b[0m\n",
      "\u001b[1;31mModuleNotFoundError\u001b[0m: No module named 'User'"
     ]
    }
   ],
   "source": [
    "from User import UserClass\n",
    "class Login:\n",
    "    __db=[]\n",
    "    def __init__(self):\n",
    "        self.print_menu()\n",
    "    def print_menu(self):\n",
    "        print(\"Welcome User\")\n",
    "        print(\"1. Register\")\n",
    "        print(\"2.Login\")\n",
    "        print(\"3.Exit\")\n",
    "    def create_User(self,name,email,password):\n",
    "        new_user=UserClass(name,email,password)\n",
    "        self.__db.append(new_user)\n",
    "        print(self.__db)\n",
    "        return True\n",
    "    def validate_user(self,email,pasword):\n",
    "        pass\n",
    "    \n",
    "obj=Login()\n",
    "while True:\n",
    "    option=input(\"Enter your choice: \")\n",
    "    if option  =='1':\n",
    "        name=input(\"Enter your full name: \")\n",
    "        email:input(\"Enter emil: \")\n",
    "        password=input(\"create new password: \")\n",
    "        res=obj.create_user(name,email,password)\n",
    "        if res==True:\n",
    "            print(\"User created successfully\")\n",
    "    elif option=='2':\n",
    "        pass\n",
    "    elif option=='3':\n",
    "        pass\n",
    "    else:\n",
    "        print(\"Invalid Input\")\n",
    "    "
   ]
  },
  {
   "cell_type": "code",
   "execution_count": 65,
   "id": "5d56e431",
   "metadata": {},
   "outputs": [
    {
     "name": "stdout",
     "output_type": "stream",
     "text": [
      "srgfdrrd@gmail.comaws\n",
      "invalid\n"
     ]
    }
   ],
   "source": [
    "s=input()\n",
    "if \"@gmail.com\" ==s[-10:] in s:\n",
    "        if ord(s[0]) in range(65,123):\n",
    "            print(\"valid email\")\n",
    "else:\n",
    "    print(\"invalid\")"
   ]
  },
  {
   "cell_type": "code",
   "execution_count": 2,
   "id": "bdd45f4f",
   "metadata": {},
   "outputs": [
    {
     "name": "stdout",
     "output_type": "stream",
     "text": [
      "Input your passwordaxjy12$\n",
      "False\n"
     ]
    }
   ],
   "source": [
    "import re\n",
    "p= input(\"Input your password\")\n",
    "x = True\n",
    "while x:  \n",
    "    if (len(p)<6 or len(p)>12):\n",
    "        break\n",
    "    elif not re.search(\"[a-z]\",p):\n",
    "        break\n",
    "    elif not re.search(\"[0-9]\",p):\n",
    "        break\n",
    "    elif not re.search(\"[A-Z]\",p):\n",
    "        break\n",
    "    elif not re.search(\"[$#@]\",p):\n",
    "        break\n",
    "    elif re.search(\"\\s\",p):\n",
    "        break\n",
    "    else:\n",
    "        print(\"True\")\n",
    "        x=False\n",
    "        break\n",
    "\n",
    "if x:\n",
    "    print(\"False\")"
   ]
  },
  {
   "cell_type": "code",
   "execution_count": null,
   "id": "7c842d01",
   "metadata": {},
   "outputs": [],
   "source": []
  }
 ],
 "metadata": {
  "kernelspec": {
   "display_name": "Python 3 (ipykernel)",
   "language": "python",
   "name": "python3"
  },
  "language_info": {
   "codemirror_mode": {
    "name": "ipython",
    "version": 3
   },
   "file_extension": ".py",
   "mimetype": "text/x-python",
   "name": "python",
   "nbconvert_exporter": "python",
   "pygments_lexer": "ipython3",
   "version": "3.9.13"
  }
 },
 "nbformat": 4,
 "nbformat_minor": 5
}

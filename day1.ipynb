{
 "cells": [
  {
   "cell_type": "code",
   "execution_count": 1,
   "id": "f0e434b9",
   "metadata": {},
   "outputs": [
    {
     "name": "stdout",
     "output_type": "stream",
     "text": [
      "9\n",
      "3\n",
      "2\n",
      "3\n",
      "1\n",
      "[9, 3, 2, 3, 1]\n"
     ]
    }
   ],
   "source": [
    "l=[]\n",
    "for i in range(5):\n",
    "    try:\n",
    "        k=int(input())\n",
    "        l.append(k)\n",
    "    except:\n",
    "        print(\"this is not an int\")\n",
    "print(l)"
   ]
  },
  {
   "cell_type": "code",
   "execution_count": 18,
   "id": "335f66cc",
   "metadata": {},
   "outputs": [
    {
     "name": "stdout",
     "output_type": "stream",
     "text": [
      "12.12435565298214\n"
     ]
    }
   ],
   "source": [
    "print(eval(\"147**0.5\"))  #calculator"
   ]
  },
  {
   "cell_type": "code",
   "execution_count": 8,
   "id": "30ca373a",
   "metadata": {},
   "outputs": [
    {
     "name": "stdout",
     "output_type": "stream",
     "text": [
      "100\n"
     ]
    }
   ],
   "source": [
    "#def addition():\n",
    "    #function body\n",
    "def addition(num1,num2):\n",
    "    result=num1+num2\n",
    "    return result\n",
    "print(addition(10,90))"
   ]
  },
  {
   "cell_type": "code",
   "execution_count": 15,
   "id": "25c4a197",
   "metadata": {},
   "outputs": [
    {
     "name": "stdout",
     "output_type": "stream",
     "text": [
      "result\n"
     ]
    }
   ],
   "source": [
    "def prime(number): #not true sol\n",
    "    if number%2!=0:\n",
    "        print(\"prime\")\n",
    "    else:\n",
    "        print(\"not prime\")\n",
    "print(\"result\")"
   ]
  },
  {
   "cell_type": "code",
   "execution_count": 16,
   "id": "95c60c4b",
   "metadata": {},
   "outputs": [],
   "source": [
    "def prime(num):        #prime number finding\n",
    "    count=0\n",
    "    for i in range(i,n+1):\n",
    "    \n",
    "    "
   ]
  },
  {
   "cell_type": "code",
   "execution_count": null,
   "id": "497e0ee7",
   "metadata": {},
   "outputs": [],
   "source": [
    "m1   for i in range(1,n+1):   #methods for number of iterations\n",
    "m2   for i in range(2,n):\n",
    "m3   for i in range(2, num//2):\n",
    "m4   for i in range(2,int(num**0.5))"
   ]
  },
  {
   "cell_type": "code",
   "execution_count": 25,
   "id": "04a31959",
   "metadata": {},
   "outputs": [
    {
     "name": "stdout",
     "output_type": "stream",
     "text": [
      "11\n"
     ]
    }
   ],
   "source": [
    "def addition(num1=1,num2=1):\n",
    "    result=num1+num2\n",
    "    return result\n",
    "a=10\n",
    "b=10\n",
    "print(addition(a))"
   ]
  },
  {
   "cell_type": "code",
   "execution_count": 27,
   "id": "b4cdd840",
   "metadata": {},
   "outputs": [
    {
     "name": "stdout",
     "output_type": "stream",
     "text": [
      "10\n"
     ]
    }
   ],
   "source": [
    "def addition(num1,num2=0):   #default value functions\n",
    "    result=num1+num2\n",
    "    return result\n",
    "a=10\n",
    "b=10\n",
    "print(addition(a))"
   ]
  },
  {
   "cell_type": "code",
   "execution_count": 28,
   "id": "e6265b5d",
   "metadata": {},
   "outputs": [
    {
     "name": "stdout",
     "output_type": "stream",
     "text": [
      "10 20 40 30\n"
     ]
    }
   ],
   "source": [
    "def add(a,b,c,d):    #keyword argument funtion=u give the value to the args while calling the function,no specific order \n",
    "    print(a,b,c,d)\n",
    "add(10,20,d=30,c=40)"
   ]
  },
  {
   "cell_type": "code",
   "execution_count": 29,
   "id": "83f7e9db",
   "metadata": {},
   "outputs": [
    {
     "ename": "TypeError",
     "evalue": "add() got multiple values for argument 'a'",
     "output_type": "error",
     "traceback": [
      "\u001b[1;31m---------------------------------------------------------------------------\u001b[0m",
      "\u001b[1;31mTypeError\u001b[0m                                 Traceback (most recent call last)",
      "\u001b[1;32m~\\AppData\\Local\\Temp\\ipykernel_14112\\1872507940.py\u001b[0m in \u001b[0;36m<module>\u001b[1;34m\u001b[0m\n\u001b[0;32m      1\u001b[0m \u001b[1;32mdef\u001b[0m \u001b[0madd\u001b[0m\u001b[1;33m(\u001b[0m\u001b[0ma\u001b[0m\u001b[1;33m,\u001b[0m\u001b[0mb\u001b[0m\u001b[1;33m,\u001b[0m\u001b[0mc\u001b[0m\u001b[1;33m,\u001b[0m\u001b[0md\u001b[0m\u001b[1;33m)\u001b[0m\u001b[1;33m:\u001b[0m\u001b[1;33m\u001b[0m\u001b[1;33m\u001b[0m\u001b[0m\n\u001b[0;32m      2\u001b[0m     \u001b[0mprint\u001b[0m\u001b[1;33m(\u001b[0m\u001b[0ma\u001b[0m\u001b[1;33m,\u001b[0m\u001b[0mb\u001b[0m\u001b[1;33m,\u001b[0m\u001b[0mc\u001b[0m\u001b[1;33m,\u001b[0m\u001b[0md\u001b[0m\u001b[1;33m)\u001b[0m\u001b[1;33m\u001b[0m\u001b[1;33m\u001b[0m\u001b[0m\n\u001b[1;32m----> 3\u001b[1;33m \u001b[0madd\u001b[0m\u001b[1;33m(\u001b[0m\u001b[1;36m10\u001b[0m\u001b[1;33m,\u001b[0m\u001b[1;36m20\u001b[0m\u001b[1;33m,\u001b[0m\u001b[0ma\u001b[0m\u001b[1;33m=\u001b[0m\u001b[1;36m30\u001b[0m\u001b[1;33m,\u001b[0m\u001b[0mb\u001b[0m\u001b[1;33m=\u001b[0m\u001b[1;36m40\u001b[0m\u001b[1;33m)\u001b[0m\u001b[1;33m\u001b[0m\u001b[1;33m\u001b[0m\u001b[0m\n\u001b[0m",
      "\u001b[1;31mTypeError\u001b[0m: add() got multiple values for argument 'a'"
     ]
    }
   ],
   "source": [
    "def add(a,b,c,d):\n",
    "    print(a,b,c,d)\n",
    "add(10,20,a=30,b=40)"
   ]
  },
  {
   "cell_type": "code",
   "execution_count": 30,
   "id": "fa5c9851",
   "metadata": {},
   "outputs": [
    {
     "ename": "SyntaxError",
     "evalue": "invalid syntax (386689205.py, line 5)",
     "output_type": "error",
     "traceback": [
      "\u001b[1;36m  File \u001b[1;32m\"C:\\Users\\DELL\\AppData\\Local\\Temp\\ipykernel_14112\\386689205.py\"\u001b[1;36m, line \u001b[1;32m5\u001b[0m\n\u001b[1;33m    res1 8=i\u001b[0m\n\u001b[1;37m         ^\u001b[0m\n\u001b[1;31mSyntaxError\u001b[0m\u001b[1;31m:\u001b[0m invalid syntax\n"
     ]
    }
   ],
   "source": [
    "#variable length argument=it'll take any no. of arguments,datatype is tuple\n",
    "def add(a,b,*abc):\n",
    "    res1=1\n",
    "    for i in abc:\n",
    "        res1 8=i\n",
    "    return res1\n",
    "print(add(10,20,30,40,50))"
   ]
  },
  {
   "cell_type": "code",
   "execution_count": 33,
   "id": "67a3d005",
   "metadata": {},
   "outputs": [
    {
     "name": "stdout",
     "output_type": "stream",
     "text": [
      "5\n",
      "4\n",
      "3\n",
      "2\n",
      "1\n",
      "0\n"
     ]
    }
   ],
   "source": [
    "def check(n):\n",
    "    print(n)\n",
    "    if n>0:\n",
    "        check(n-1)\n",
    "check(5)       "
   ]
  },
  {
   "cell_type": "code",
   "execution_count": null,
   "id": "cb7b0c33",
   "metadata": {},
   "outputs": [],
   "source": []
  }
 ],
 "metadata": {
  "kernelspec": {
   "display_name": "Python 3 (ipykernel)",
   "language": "python",
   "name": "python3"
  },
  "language_info": {
   "codemirror_mode": {
    "name": "ipython",
    "version": 3
   },
   "file_extension": ".py",
   "mimetype": "text/x-python",
   "name": "python",
   "nbconvert_exporter": "python",
   "pygments_lexer": "ipython3",
   "version": "3.9.13"
  }
 },
 "nbformat": 4,
 "nbformat_minor": 5
}

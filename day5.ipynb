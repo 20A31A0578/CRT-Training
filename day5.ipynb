{
 "cells": [
  {
   "cell_type": "code",
   "execution_count": null,
   "id": "a71e6036",
   "metadata": {},
   "outputs": [],
   "source": [
    "n=int(input())\n",
    "arr=[]\n",
    "for i in range(n):\n",
    "    a=input().split()\n",
    "    if a[0]==\"add\":\n",
    "        arr.append(int(a[1]))\n",
    "    elif a[0]==\"insert\":\n",
    "        ele=int(a[1])\n",
    "        ind=int(a[2])\n",
    "        arr.insert(ind,ele)\n",
    "    elif a[0]==\"remove\":\n",
    "        ele==int(a[1])\n",
    "    elif a[0]==\"pop\":\n",
    "        pass\n",
    "    elif a[0]==\"print\":\n",
    "        pass"
   ]
  },
  {
   "cell_type": "code",
   "execution_count": 1,
   "id": "9f8ba684",
   "metadata": {},
   "outputs": [
    {
     "name": "stdout",
     "output_type": "stream",
     "text": [
      "10\n",
      "mukesh\n"
     ]
    }
   ],
   "source": [
    "class A:          #single inheritance\n",
    "    name=\"mukesh\"\n",
    "    age=34\n",
    "\n",
    "\n",
    "class B(A):\n",
    "    age=10\n",
    "    \n",
    "obj=B()\n",
    "print(obj.age)\n",
    "print(obj.name)"
   ]
  },
  {
   "cell_type": "code",
   "execution_count": 3,
   "id": "a292e2f6",
   "metadata": {},
   "outputs": [
    {
     "name": "stdout",
     "output_type": "stream",
     "text": [
      "34\n",
      "mukesh\n"
     ]
    }
   ],
   "source": [
    "class A:\n",
    "    name=\"mukesh\"\n",
    "    age=34\n",
    "\n",
    "class B(A):\n",
    "    pass\n",
    "obj=B() \n",
    "\n",
    "print(obj.age)\n",
    "print(obj.name)"
   ]
  },
  {
   "cell_type": "code",
   "execution_count": 7,
   "id": "40646d19",
   "metadata": {},
   "outputs": [
    {
     "name": "stdout",
     "output_type": "stream",
     "text": [
      "10\n",
      "ramesh\n"
     ]
    }
   ],
   "source": [
    "class A:          #multilevel\n",
    "    name=\"mukesh\"\n",
    "    age=34\n",
    "\n",
    "class B(A):\n",
    "    age=10\n",
    "class C(B):\n",
    "    pass\n",
    "class D(C):\n",
    "    pass\n",
    "obj=D() \n",
    "obj.name=\"ramesh\"\n",
    "print(obj.age)\n",
    "print(obj.name)"
   ]
  },
  {
   "cell_type": "code",
   "execution_count": 12,
   "id": "b2883bf6",
   "metadata": {},
   "outputs": [
    {
     "name": "stdout",
     "output_type": "stream",
     "text": [
      "submitted\n",
      "79%\n",
      "radhika\n",
      "4577\n"
     ]
    }
   ],
   "source": [
    "class Hod:   #multilevel\n",
    "    salary=4577\n",
    "    age=45\n",
    "    name=\"radhika\"\n",
    "    activity=\"honors class\"\n",
    "class Teacher(Hod):\n",
    "    attendence=\"79%\"\n",
    "    marks=100\n",
    "class Cr(Teacher):\n",
    "    assignments=\"submitted\"\n",
    "obj=Cr()\n",
    "print(obj.assignments)\n",
    "print(obj.attendence)\n",
    "print(obj.name)\n",
    "print(obj.salary)"
   ]
  },
  {
   "cell_type": "code",
   "execution_count": 13,
   "id": "d3f8e36a",
   "metadata": {},
   "outputs": [
    {
     "name": "stdout",
     "output_type": "stream",
     "text": [
      "ssgfsdgfv\n"
     ]
    }
   ],
   "source": [
    "#hierarchical=2 child classes\n",
    "class Price:\n",
    "    name=\"ssgfsdgfv\"\n",
    "class Mrp1(Price):\n",
    "    pass\n",
    "class Mrp2(Price):\n",
    "    pass\n",
    "obj=Mrp2()\n",
    "print(obj.name)"
   ]
  },
  {
   "cell_type": "code",
   "execution_count": 17,
   "id": "7ec85d18",
   "metadata": {},
   "outputs": [
    {
     "name": "stdout",
     "output_type": "stream",
     "text": [
      "in parent class1\n"
     ]
    }
   ],
   "source": [
    "#multiple\n",
    "class P1:\n",
    "    def m1(self):\n",
    "        print(\"in parent class1\")\n",
    "class P2:\n",
    "    def m1(self):\n",
    "        print(\"in parent class2\")\n",
    "class C(P1,P2):\n",
    "    pass\n",
    "obj=C()\n",
    "obj.m1()\n",
    "#diamond problem"
   ]
  },
  {
   "cell_type": "code",
   "execution_count": 18,
   "id": "00522344",
   "metadata": {},
   "outputs": [
    {
     "name": "stdout",
     "output_type": "stream",
     "text": [
      "in parent class2\n"
     ]
    }
   ],
   "source": [
    "class P1:\n",
    "    def m1(self):\n",
    "        print(\"in parent class1\")\n",
    "class P2:\n",
    "    def m1(self):\n",
    "        print(\"in parent class2\")\n",
    "class C(P2,P1):\n",
    "    pass\n",
    "obj=C()\n",
    "obj.m1()"
   ]
  },
  {
   "cell_type": "code",
   "execution_count": 22,
   "id": "24c77c1a",
   "metadata": {},
   "outputs": [
    {
     "name": "stdout",
     "output_type": "stream",
     "text": [
      "coder\n",
      "kalyani\n",
      "334\n"
     ]
    }
   ],
   "source": [
    "class pm:\n",
    "    name=\"ganga\"\n",
    "    number=334\n",
    "    i=\"coder\"\n",
    "class cm1(pm):\n",
    "    cname=\"kalyani\"\n",
    "class cm2(pm):\n",
    "    cname=\"savitri\"\n",
    "class Manager(cm1,cm2):\n",
    "    pass\n",
    "obj=Manager()\n",
    "print(obj.i)\n",
    "print(obj.cname)\n",
    "print(obj.number)"
   ]
  },
  {
   "cell_type": "code",
   "execution_count": 30,
   "id": "bf5e57ae",
   "metadata": {},
   "outputs": [
    {
     "name": "stdout",
     "output_type": "stream",
     "text": [
      "6\n"
     ]
    }
   ],
   "source": [
    "from random import random,randint\n",
    "a=randint(1,10)\n",
    "print(a)"
   ]
  },
  {
   "cell_type": "code",
   "execution_count": 32,
   "id": "e3f7f142",
   "metadata": {},
   "outputs": [
    {
     "name": "stdout",
     "output_type": "stream",
     "text": [
      "49.15015166567398\n",
      "2\n"
     ]
    }
   ],
   "source": [
    "from random import random,randint\n",
    "a=randint(1,10)\n",
    "id=random()*100\n",
    "print(id)\n",
    "print(a)"
   ]
  },
  {
   "cell_type": "code",
   "execution_count": null,
   "id": "89d87afd",
   "metadata": {},
   "outputs": [],
   "source": [
    "print(\"enter your choice\")\n",
    "p11=0\n",
    "p22=0\n",
    "l=[\"paper\",\"rock\",\"scissor\"]\n",
    "for i in range(5):\n",
    "    p1=input()\n",
    "    p2=input()\n",
    "    if p1 in l:\n",
    "        if p2 in l:\n",
    "            if(p1==\"paper\"):\n",
    "                if(p2==\"rock\":)"
   ]
  },
  {
   "cell_type": "code",
   "execution_count": 35,
   "id": "2ff39859",
   "metadata": {},
   "outputs": [
    {
     "name": "stdout",
     "output_type": "stream",
     "text": [
      "choose among the following:  ['rock', 'paper', 'scissor']\n",
      "Player choice: rock\n",
      "System choice: paper\n",
      "your score: 0,system score:1\n",
      "choose among the following:  ['rock', 'paper', 'scissor']\n",
      "Player choice: paper\n",
      "System choice: scissor\n",
      "your score: 0,system score:2\n",
      "choose among the following:  ['rock', 'paper', 'scissor']\n",
      "Player choice: scissor\n",
      "System choice: rock\n",
      "your score: 0,system score:3\n",
      "system wins the match\n"
     ]
    }
   ],
   "source": [
    "from random import randint\n",
    "choice=['rock','paper','scissor']\n",
    "p_score=0\n",
    "c_score=0\n",
    "limit=3\n",
    "while p_score!=limit and c_score!=limit:\n",
    "    \n",
    "    print(f\"choose among the following: \",choice)\n",
    "    my_ch=input(\"Player choice: \").lower()\n",
    "    if my_ch not in choice:\n",
    "        print(\"Invalid input\")\n",
    "        continue\n",
    "    sys_ch=choice[int(randint(0,2))]\n",
    "    print(f\"System choice: {sys_ch}\")\n",
    "    if my_ch==sys_ch:\n",
    "        print(\"--DRAW--\")\n",
    "        continue\n",
    "    if my_ch==\"rock\" and sys_ch==\"scissor\":\n",
    "        p_score+=1\n",
    "    elif my_ch==\"paper\" and sys_ch==\"rock\":\n",
    "        p_score+=1\n",
    "    elif my_ch==\"scissor\" and sys_ch==\"paper\":\n",
    "        p_score+=1\n",
    "    else:\n",
    "        c_score+=1\n",
    "    print(f\"your score: {p_score},system score:{c_score}\")\n",
    "\n",
    "if p_score>c_score:\n",
    "    print(\"you win the match\")\n",
    "else:\n",
    "    print(\"system wins the match\")"
   ]
  },
  {
   "cell_type": "code",
   "execution_count": null,
   "id": "ab6da304",
   "metadata": {},
   "outputs": [],
   "source": [
    "from random import randint\n",
    "l1=[1,2,3,4,5,6,7,8,9,10]\n",
    "l2=[\"king\",\"queen\",\"jack\"]\n",
    "choice=[\"hit\",\"drop\"]\n",
    "deal_choice=choice[int(randint(0,1))]\n",
    "n=int"
   ]
  },
  {
   "cell_type": "code",
   "execution_count": 39,
   "id": "c35020de",
   "metadata": {},
   "outputs": [
    {
     "name": "stdout",
     "output_type": "stream",
     "text": [
      "mul of 2 numbers:  1462\n"
     ]
    }
   ],
   "source": [
    "class A:\n",
    "    def method_1(self,a,b):\n",
    "        print(\"sum of 2 numbers: \",a+b)\n",
    "\n",
    "class B(A):\n",
    "    def method_1(self,a,b):\n",
    "        print(\"mul of 2 numbers: \",a*b)\n",
    "obj=B() \n",
    "\n",
    "obj.method_1(43,34)"
   ]
  },
  {
   "cell_type": "code",
   "execution_count": null,
   "id": "206f4afb",
   "metadata": {},
   "outputs": [],
   "source": [
    "convert int ti bin and do reverse,xor operation"
   ]
  },
  {
   "cell_type": "code",
   "execution_count": 49,
   "id": "69dee023",
   "metadata": {},
   "outputs": [
    {
     "name": "stdout",
     "output_type": "stream",
     "text": [
      "5\n",
      "2\n"
     ]
    }
   ],
   "source": [
    "\n",
    "\n",
    "n=int(input())\n",
    "n1=int(input())\n",
    "s=bin(n)[2:]\n",
    "s1=bin(n1)[2:]\n",
    "        \n",
    "    \n",
    "\n"
   ]
  },
  {
   "cell_type": "code",
   "execution_count": 12,
   "id": "bd15c40d",
   "metadata": {},
   "outputs": [
    {
     "name": "stdout",
     "output_type": "stream",
     "text": [
      "1\n",
      "2\n",
      "3\n",
      "4\n",
      "5\n",
      "[2, 3, 4, 5]\n",
      "[10, 8, 10, 12, 2]\n",
      "10 8 10 12 2 "
     ]
    }
   ],
   "source": [
    "lst = []\n",
    "n = int(input())\n",
    "for i,j in range(1, 5):\n",
    "    ele = int(input())\n",
    "    lst.append(ele)\n",
    "print(lst)\n",
    "a=[1,2,3,4,5]\n",
    "arr2=[7,8,9,10,11]\n",
    "b=arr2[::-1]\n",
    "#print(res1)\n",
    "l=list(a^b for a,b in zip(a,b))\n",
    "print(l)\n",
    "for i in l:\n",
    "    print(i,end=\" \")"
   ]
  },
  {
   "cell_type": "code",
   "execution_count": null,
   "id": "dae55cf5",
   "metadata": {},
   "outputs": [],
   "source": []
  }
 ],
 "metadata": {
  "kernelspec": {
   "display_name": "Python 3 (ipykernel)",
   "language": "python",
   "name": "python3"
  },
  "language_info": {
   "codemirror_mode": {
    "name": "ipython",
    "version": 3
   },
   "file_extension": ".py",
   "mimetype": "text/x-python",
   "name": "python",
   "nbconvert_exporter": "python",
   "pygments_lexer": "ipython3",
   "version": "3.9.13"
  }
 },
 "nbformat": 4,
 "nbformat_minor": 5
}

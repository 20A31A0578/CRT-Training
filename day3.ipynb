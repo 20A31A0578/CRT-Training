{
 "cells": [
  {
   "cell_type": "code",
   "execution_count": 1,
   "id": "358e2c98",
   "metadata": {},
   "outputs": [
    {
     "name": "stdout",
     "output_type": "stream",
     "text": [
      "key1\n",
      "value1\n"
     ]
    }
   ],
   "source": [
    "d={\n",
    "    'key1':'value1'\n",
    "}\n",
    "for i  in d:\n",
    "    print(i)\n",
    "for i in d:\n",
    "    print(d[i])"
   ]
  },
  {
   "cell_type": "code",
   "execution_count": 3,
   "id": "582d111c",
   "metadata": {},
   "outputs": [
    {
     "name": "stdout",
     "output_type": "stream",
     "text": [
      "{'key1': '34', 'key2': '56'}\n"
     ]
    },
    {
     "ename": "KeyError",
     "evalue": "1",
     "output_type": "error",
     "traceback": [
      "\u001b[1;31m---------------------------------------------------------------------------\u001b[0m",
      "\u001b[1;31mKeyError\u001b[0m                                  Traceback (most recent call last)",
      "\u001b[1;32m~\\AppData\\Local\\Temp\\ipykernel_11560\\3349124103.py\u001b[0m in \u001b[0;36m<module>\u001b[1;34m\u001b[0m\n\u001b[0;32m      9\u001b[0m \u001b[0md5\u001b[0m\u001b[1;33m=\u001b[0m\u001b[1;33m{\u001b[0m\u001b[1;34m'key1'\u001b[0m\u001b[1;33m:\u001b[0m\u001b[1;34m'65'\u001b[0m\u001b[1;33m,\u001b[0m\u001b[1;34m'key2'\u001b[0m\u001b[1;33m:\u001b[0m\u001b[1;34m'98'\u001b[0m\u001b[1;33m}\u001b[0m\u001b[1;33m\u001b[0m\u001b[1;33m\u001b[0m\u001b[0m\n\u001b[0;32m     10\u001b[0m \u001b[1;32mfor\u001b[0m \u001b[0mi\u001b[0m \u001b[1;32min\u001b[0m \u001b[0mrange\u001b[0m\u001b[1;33m(\u001b[0m\u001b[1;36m1\u001b[0m\u001b[1;33m,\u001b[0m\u001b[1;36m6\u001b[0m\u001b[1;33m)\u001b[0m\u001b[1;33m:\u001b[0m\u001b[1;33m\u001b[0m\u001b[1;33m\u001b[0m\u001b[0m\n\u001b[1;32m---> 11\u001b[1;33m     \u001b[0mprint\u001b[0m\u001b[1;33m(\u001b[0m\u001b[0md\u001b[0m\u001b[1;33m[\u001b[0m\u001b[0mi\u001b[0m\u001b[1;33m]\u001b[0m\u001b[1;33m)\u001b[0m\u001b[1;33m\u001b[0m\u001b[1;33m\u001b[0m\u001b[0m\n\u001b[0m",
      "\u001b[1;31mKeyError\u001b[0m: 1"
     ]
    }
   ],
   "source": [
    "d1={\n",
    "    'key1':'34'\n",
    "}\n",
    "d1.update({'key2':'56'})\n",
    "print(d1)\n",
    "d2={'key1':'12','key2':'67'}\n",
    "d3={'key1':'23','key2':'87'}\n",
    "d4={'key1':'54','key2':'32'}\n",
    "d5={'key1':'65','key2':'98'}\n",
    "for i in range(1,6):\n",
    "    print(d[i])"
   ]
  },
  {
   "cell_type": "code",
   "execution_count": 8,
   "id": "d73d7cbf",
   "metadata": {},
   "outputs": [
    {
     "name": "stdout",
     "output_type": "stream",
     "text": [
      "34\n",
      "38\n",
      "78\n",
      "89\n",
      "98\n",
      "43\n",
      "32\n",
      "21\n",
      "45\n",
      "78\n",
      "[{'key1': '34', 'key2': '38'}, {'key1': '78', 'key2': '89'}, {'key1': '98', 'key2': '43'}, {'key1': '32', 'key2': '21'}, {'key1': '45', 'key2': '78'}]\n"
     ]
    }
   ],
   "source": [
    "l=[]\n",
    "for i in range(5):\n",
    "    d={\n",
    "        'key1':input(),\n",
    "        'key2':input()\n",
    "    }\n",
    "    l.append(d)\n",
    "print(l)"
   ]
  },
  {
   "cell_type": "code",
   "execution_count": 9,
   "id": "a6628ce6",
   "metadata": {},
   "outputs": [
    {
     "name": "stdout",
     "output_type": "stream",
     "text": [
      "32\n",
      "43\n",
      "65\n",
      "54\n",
      "[{'key1': '65', 'key2': '54'}, {'key1': '65', 'key2': '54'}]\n"
     ]
    }
   ],
   "source": [
    "l=[]   #get #update\n",
    "d={}\n",
    "for i in range(2):\n",
    "    d.update({\n",
    "        'key1':input(),\n",
    "        'key2':input()\n",
    "    })\n",
    "    l.append(d)\n",
    "print(l)"
   ]
  },
  {
   "cell_type": "code",
   "execution_count": 10,
   "id": "e6ed3718",
   "metadata": {},
   "outputs": [
    {
     "name": "stdout",
     "output_type": "stream",
     "text": [
      "65\n",
      "43\n",
      "32\n",
      "21\n",
      "[{'key1': '65', 'key2': '43'}, {'key1': '32', 'key2': '21'}]\n"
     ]
    }
   ],
   "source": [
    "l=[]   #inefficient\n",
    "for i in range(2):\n",
    "    d={}\n",
    "    d.update({\n",
    "        'key1':input(),\n",
    "        'key2':input()\n",
    "    })\n",
    "    l.append(d)\n",
    "print(l)"
   ]
  },
  {
   "cell_type": "code",
   "execution_count": 11,
   "id": "a5bd1dea",
   "metadata": {},
   "outputs": [
    {
     "name": "stdout",
     "output_type": "stream",
     "text": [
      "[{'sailu@mailea.com': '12356'}, {'ganga@mailea.com': 'gangster'}, {'kalyani@mailea.com': 'coder'}]\n",
      "dict_keys(['sailu@mailea.com'])\n",
      "dict_values(['12356'])\n",
      "dict_keys(['ganga@mailea.com'])\n",
      "dict_values(['gangster'])\n",
      "dict_keys(['kalyani@mailea.com'])\n",
      "dict_values(['coder'])\n"
     ]
    }
   ],
   "source": [
    "#verifying password\n",
    "db=[{'sailu@mailea.com':'12356'},{'ganga@mailea.com':'gangster'},{'kalyani@mailea.com':'coder'}]\n",
    "print(db)\n",
    "for i in db:\n",
    "    print(i.keys())\n",
    "    print(i.values())"
   ]
  },
  {
   "cell_type": "code",
   "execution_count": 12,
   "id": "c84bb9e7",
   "metadata": {},
   "outputs": [
    {
     "name": "stdout",
     "output_type": "stream",
     "text": [
      "[{'sailu@mailea.com': '12356'}, {'ganga@mailea.com': 'gangster'}, {'kalyani@mailea.com': 'coder'}]\n",
      "dict_items([('sailu@mailea.com', '12356')])\n",
      "dict_items([('ganga@mailea.com', 'gangster')])\n",
      "dict_items([('kalyani@mailea.com', 'coder')])\n"
     ]
    }
   ],
   "source": [
    "db=[{'sailu@mailea.com':'12356'},{'ganga@mailea.com':'gangster'},{'kalyani@mailea.com':'coder'}]\n",
    "print(db)\n",
    "for i in db:\n",
    "    print(i.items())"
   ]
  },
  {
   "cell_type": "code",
   "execution_count": 15,
   "id": "e53c398c",
   "metadata": {},
   "outputs": [
    {
     "name": "stdout",
     "output_type": "stream",
     "text": [
      "[{'sailu@mailea.com': '12356'}, {'ganga@mailea.com': 'gangster'}, {'kalyani@mailea.com': 'coder'}]\n",
      "sailu@mailea.com\n",
      "12345\n",
      "not found\n"
     ]
    }
   ],
   "source": [
    "db=[{'sailu@mailea.com':'12356'},{'ganga@mailea.com':'gangster'},{'kalyani@mailea.com':'coder'}]\n",
    "print(db)\n",
    "username=input()\n",
    "password=input()\n",
    "temp={\n",
    "    username:password\n",
    "}\n",
    "if temp in db:\n",
    "    print(\"found\")\n",
    "else:\n",
    "    print(\"not found\")"
   ]
  },
  {
   "cell_type": "code",
   "execution_count": 25,
   "id": "89886601",
   "metadata": {},
   "outputs": [
    {
     "name": "stdout",
     "output_type": "stream",
     "text": [
      "hgdj\n",
      "1345\n",
      "registrerd succesfully\n",
      "[{'sailu@mailea.com': '12356'}, {'ganga@mailea.com': 'gangster'}, {'kalyani@mailea.com': 'coder'}, {'hgdj': '1345'}]\n"
     ]
    }
   ],
   "source": [
    "d2=[{'sailu@mailea.com':'12356'},{'ganga@mailea.com':'gangster'},{'kalyani@mailea.com':'coder'}]  #login\n",
    "u=input()\n",
    "p=input()\n",
    "temp1={\n",
    "    u:p\n",
    "}\n",
    "c=0\n",
    "for i in d2:\n",
    "    for j in i:\n",
    "        if j==u:\n",
    "           c=c+1\n",
    "if(c==0):\n",
    "        print(\"registrerd succesfully\")\n",
    "        d2.append(temp1)\n",
    "else:\n",
    "        print(\"unsuccessful\")\n",
    "print(d2)\n",
    "        "
   ]
  },
  {
   "cell_type": "code",
   "execution_count": 39,
   "id": "1fd2eb65",
   "metadata": {},
   "outputs": [
    {
     "name": "stdout",
     "output_type": "stream",
     "text": [
      "enter ele in row:1 2 3\n",
      "enter ele in row:4 5 6\n",
      "enter ele in row:7 8 9\n",
      "[[1, 2, 3], [4, 5, 6], [7, 8, 9]]\n",
      "enter ele in row:12 13 14\n",
      "enter ele in row:15 16 17\n",
      "enter ele in row:18 19 10\n",
      "[[12, 13, 14], [15, 16, 17], [18, 19, 10]]\n",
      "[[13, 15, 17], [19, 21, 23], [25, 27, 19]]\n"
     ]
    }
   ],
   "source": [
    "  #add of matrices\n",
    "row=3\n",
    "col=3\n",
    "arr1=[]\n",
    "for i in range(row):\n",
    "    temp=input(\"enter ele in row:\").split()\n",
    "    ele=list(map(int,temp))\n",
    "    arr1.append(ele)\n",
    "print(arr1)\n",
    "arr2=[]\n",
    "for i in range(row):\n",
    "    temp=input(\"enter ele in row:\").split()\n",
    "    ele=list(map(int,temp))\n",
    "    arr2.append(ele)\n",
    "print(arr2)\n",
    "res= [[0 for i in range(col)] for i in range(row)]\n",
    "for i in range(row):\n",
    "    for j in range(col):\n",
    "        res[i][j]=arr1[i][j]+arr2[i][j]\n",
    "print(res)"
   ]
  },
  {
   "cell_type": "code",
   "execution_count": 41,
   "id": "f9e75dbf",
   "metadata": {},
   "outputs": [
    {
     "name": "stdout",
     "output_type": "stream",
     "text": [
      "[1, 2, 3, 4, 5, 6, 7, 8, 9, 10]\n"
     ]
    },
    {
     "data": {
      "text/plain": [
       "[1, 2, 3, 4, 5]"
      ]
     },
     "execution_count": 41,
     "metadata": {},
     "output_type": "execute_result"
    }
   ],
   "source": [
    "row=3 #slicing\n",
    "col=4\n",
    "l=[1,2,3,4,5,6,7,8,9,10]\n",
    "print(l)\n",
    "l[0:5]"
   ]
  },
  {
   "cell_type": "code",
   "execution_count": 42,
   "id": "93659cfb",
   "metadata": {},
   "outputs": [
    {
     "data": {
      "text/plain": [
       "[1, 2, 3, 4, 5, 6, 7, 8, 9, 10]"
      ]
     },
     "execution_count": 42,
     "metadata": {},
     "output_type": "execute_result"
    }
   ],
   "source": [
    "l[0:10]"
   ]
  },
  {
   "cell_type": "code",
   "execution_count": 43,
   "id": "d81678a0",
   "metadata": {},
   "outputs": [
    {
     "data": {
      "text/plain": [
       "[1, 3, 5, 7, 9]"
      ]
     },
     "execution_count": 43,
     "metadata": {},
     "output_type": "execute_result"
    }
   ],
   "source": [
    "l[0:10:2]"
   ]
  },
  {
   "cell_type": "code",
   "execution_count": 44,
   "id": "fdfaf684",
   "metadata": {},
   "outputs": [
    {
     "data": {
      "text/plain": [
       "[10, 9, 8, 7, 6, 5, 4, 3, 2, 1]"
      ]
     },
     "execution_count": 44,
     "metadata": {},
     "output_type": "execute_result"
    }
   ],
   "source": [
    "l[::-1]"
   ]
  },
  {
   "cell_type": "code",
   "execution_count": 45,
   "id": "74a811b9",
   "metadata": {},
   "outputs": [
    {
     "data": {
      "text/plain": [
       "[1, 3, 5, 7, 9]"
      ]
     },
     "execution_count": 45,
     "metadata": {},
     "output_type": "execute_result"
    }
   ],
   "source": [
    "l[::2]"
   ]
  },
  {
   "cell_type": "code",
   "execution_count": 46,
   "id": "00a4200f",
   "metadata": {},
   "outputs": [
    {
     "name": "stdout",
     "output_type": "stream",
     "text": [
      "enter ele in row:1 2\n",
      "enter ele in row:3 4\n",
      "[[1, 2], [3, 4]]\n",
      "enter ele in row:5 6\n",
      "enter ele in row:7 8\n",
      "[[5, 6], [7, 8]]\n",
      "[[6, 8], [10, 12]]\n"
     ]
    }
   ],
   "source": [
    "row=2\n",
    "col=2\n",
    "arr1=[]\n",
    "for i in range(row):\n",
    "    temp=input(\"enter ele in row:\").split()\n",
    "    ele=list(map(int,temp))\n",
    "    arr1.append(ele)\n",
    "print(arr1)\n",
    "arr2=[]\n",
    "for i in range(row):\n",
    "    temp=input(\"enter ele in row:\").split()\n",
    "    ele=list(map(int,temp))\n",
    "    arr2.append(ele)\n",
    "print(arr2)\n",
    "res= [[0 for i in range(col)] for i in range(row)]\n",
    "for i in range(row):\n",
    "    for j in range(col):\n",
    "        res[i][j]=arr1[i][j]+arr2[i][j]\n",
    "print(res)"
   ]
  },
  {
   "cell_type": "code",
   "execution_count": 51,
   "id": "e6894eab",
   "metadata": {},
   "outputs": [
    {
     "name": "stdout",
     "output_type": "stream",
     "text": [
      "5\n",
      "4\n",
      "3\n",
      "2\n",
      "1\n"
     ]
    }
   ],
   "source": [
    "l=[1,2,3,4,5]\n",
    "i=len(l)-1\n",
    "while(i>=0):\n",
    "    print(l[i])\n",
    "    i=i-1"
   ]
  },
  {
   "cell_type": "code",
   "execution_count": 52,
   "id": "eb83c4b7",
   "metadata": {},
   "outputs": [
    {
     "name": "stdout",
     "output_type": "stream",
     "text": [
      "5\n",
      "4\n",
      "3\n",
      "2\n",
      "1\n"
     ]
    }
   ],
   "source": [
    "l=[1,2,3,4,5]\n",
    "for i in range(len(l)-1,-1,-1):\n",
    "    print(l[i])"
   ]
  },
  {
   "cell_type": "code",
   "execution_count": 56,
   "id": "53071ce3",
   "metadata": {},
   "outputs": [
    {
     "name": "stdout",
     "output_type": "stream",
     "text": [
      "10\n",
      "0\n",
      "1\n",
      "1\n",
      "2\n",
      "3\n",
      "5\n",
      "8\n",
      "13\n",
      "21\n",
      "34\n"
     ]
    }
   ],
   "source": [
    "n=int(input())\n",
    "fib1=0\n",
    "fib2=1\n",
    "print(fib1)\n",
    "print(fib2)\n",
    "for i in  range(n-2):\n",
    "    sum=fib1+fib2\n",
    "    print(sum)\n",
    "      \n",
    "    fib1=fib2\n",
    "    fib2=sum  "
   ]
  },
  {
   "cell_type": "code",
   "execution_count": 57,
   "id": "5ffd8d56",
   "metadata": {},
   "outputs": [
    {
     "data": {
      "text/plain": [
       "'Hello world'"
      ]
     },
     "execution_count": 57,
     "metadata": {},
     "output_type": "execute_result"
    }
   ],
   "source": [
    "#strings and its methods\n",
    "s=\"hello world\"\n",
    "s.capitalize()"
   ]
  },
  {
   "cell_type": "code",
   "execution_count": 65,
   "id": "adc8a70a",
   "metadata": {},
   "outputs": [
    {
     "name": "stdout",
     "output_type": "stream",
     "text": [
      "['hello', 'world']\n"
     ]
    }
   ],
   "source": [
    "res=s.split()\n",
    "print(res)"
   ]
  },
  {
   "cell_type": "code",
   "execution_count": 66,
   "id": "e13027fe",
   "metadata": {},
   "outputs": [
    {
     "name": "stdout",
     "output_type": "stream",
     "text": [
      "['hello', 'world']\n"
     ]
    }
   ],
   "source": [
    "res=s.split(' ')\n",
    "print(res)"
   ]
  },
  {
   "cell_type": "code",
   "execution_count": 69,
   "id": "ba2f99fb",
   "metadata": {},
   "outputs": [
    {
     "name": "stdout",
     "output_type": "stream",
     "text": [
      "hello-world\n"
     ]
    }
   ],
   "source": [
    "print('-'.join(res))\n"
   ]
  },
  {
   "cell_type": "code",
   "execution_count": 81,
   "id": "1b26c289",
   "metadata": {},
   "outputs": [
    {
     "data": {
      "text/plain": [
       "'Hello World'"
      ]
     },
     "execution_count": 81,
     "metadata": {},
     "output_type": "execute_result"
    }
   ],
   "source": [
    "s.title()"
   ]
  },
  {
   "cell_type": "code",
   "execution_count": 71,
   "id": "d66757b1",
   "metadata": {},
   "outputs": [
    {
     "data": {
      "text/plain": [
       "'hello world'"
      ]
     },
     "execution_count": 71,
     "metadata": {},
     "output_type": "execute_result"
    }
   ],
   "source": [
    "s.lower()"
   ]
  },
  {
   "cell_type": "code",
   "execution_count": 76,
   "id": "1396cb01",
   "metadata": {},
   "outputs": [
    {
     "name": "stdout",
     "output_type": "stream",
     "text": [
      "HELLO WORLD\n"
     ]
    }
   ],
   "source": [
    "s1=\"hello world\"\n",
    "s2=\"HI THERE\"\n",
    "res=s1.swapcase()\n",
    "print(res)"
   ]
  },
  {
   "cell_type": "code",
   "execution_count": 77,
   "id": "c7e98b20",
   "metadata": {},
   "outputs": [
    {
     "name": "stdout",
     "output_type": "stream",
     "text": [
      "hi there\n"
     ]
    }
   ],
   "source": [
    "s1=\"hello world\"\n",
    "s2=\"HI THERE\"\n",
    "res=s2.swapcase()\n",
    "print(res)"
   ]
  },
  {
   "cell_type": "code",
   "execution_count": 100,
   "id": "d375b70d",
   "metadata": {},
   "outputs": [
    {
     "name": "stdout",
     "output_type": "stream",
     "text": [
      "3\n"
     ]
    }
   ],
   "source": [
    "s=\"hello world\"\n",
    "res=s.count('l')\n",
    "print(res)"
   ]
  },
  {
   "cell_type": "code",
   "execution_count": 84,
   "id": "32e2468d",
   "metadata": {},
   "outputs": [
    {
     "name": "stdout",
     "output_type": "stream",
     "text": [
      "Mr.X is 32 years old\n"
     ]
    }
   ],
   "source": [
    "first=\"Mr.X is \"\n",
    "age=32\n",
    "last=\"years old\"\n",
    "print(\"Mr.X is {} years old\".format(age))"
   ]
  },
  {
   "cell_type": "code",
   "execution_count": 87,
   "id": "4eeff36b",
   "metadata": {},
   "outputs": [
    {
     "name": "stdout",
     "output_type": "stream",
     "text": [
      "the square of 32 is 1024\n"
     ]
    }
   ],
   "source": [
    "num=32\n",
    "print(\"the square of {} is {}\".format(num, num*num))"
   ]
  },
  {
   "cell_type": "code",
   "execution_count": 89,
   "id": "2489b028",
   "metadata": {},
   "outputs": [
    {
     "name": "stdout",
     "output_type": "stream",
     "text": [
      "the square of 32 is 1024.000000\n"
     ]
    }
   ],
   "source": [
    "num=32\n",
    "print(\"the square of {} is {:.6f}\".format(num, num*num))"
   ]
  },
  {
   "cell_type": "code",
   "execution_count": 92,
   "id": "76de29a0",
   "metadata": {},
   "outputs": [
    {
     "name": "stdout",
     "output_type": "stream",
     "text": [
      "the square of         32 is 1024.00000\n"
     ]
    }
   ],
   "source": [
    "num=32\n",
    "print(\"the square of {:10} is {:.5f}\".format(num, num*num))"
   ]
  },
  {
   "cell_type": "code",
   "execution_count": 95,
   "id": "be97b92e",
   "metadata": {},
   "outputs": [
    {
     "name": "stdout",
     "output_type": "stream",
     "text": [
      "the square of 32 is 1024\n"
     ]
    }
   ],
   "source": [
    "num=32\n",
    "print(f\"the square of {num} is {num*num}\")"
   ]
  },
  {
   "cell_type": "code",
   "execution_count": 97,
   "id": "77e0302b",
   "metadata": {},
   "outputs": [
    {
     "name": "stdout",
     "output_type": "stream",
     "text": [
      "the square of 32 is 1024.00000\n"
     ]
    }
   ],
   "source": [
    "print(f\"the square of {num} is {num*num:.5f}\")"
   ]
  },
  {
   "cell_type": "code",
   "execution_count": 105,
   "id": "519e1aed",
   "metadata": {},
   "outputs": [
    {
     "name": "stdout",
     "output_type": "stream",
     "text": [
      "enter a: 3\n",
      "enter b: 0\n",
      "b can't be zero\n",
      "after the error\n"
     ]
    }
   ],
   "source": [
    "a=int(input('enter a: '))   #EXCEPTION HANDLING\n",
    "b=int(input('enter b: '))\n",
    "try:\n",
    "    print(a/b)\n",
    "except:\n",
    "    print(\"b can't be zero\")\n",
    "print(\"after the error\")"
   ]
  },
  {
   "cell_type": "code",
   "execution_count": 114,
   "id": "ba6df2c1",
   "metadata": {},
   "outputs": [
    {
     "name": "stdout",
     "output_type": "stream",
     "text": [
      "enter m: -1\n",
      "enter n: 0\n",
      "-1\n",
      "-1\n",
      "0\n"
     ]
    }
   ],
   "source": [
    "m=int(input('enter m: '))  \n",
    "n=int(input('enter n: '))\n",
    "print(m+n)\n",
    "print(m-n)\n",
    "print(m*n)"
   ]
  },
  {
   "cell_type": "code",
   "execution_count": 115,
   "id": "68a46ced",
   "metadata": {},
   "outputs": [
    {
     "name": "stdout",
     "output_type": "stream",
     "text": [
      "enter m: 2\n",
      "enter n: 0\n",
      "2\n",
      "2\n",
      "0\n",
      "b can't be zero\n",
      "after the error\n"
     ]
    }
   ],
   "source": [
    "m=int(input('enter m: '))  \n",
    "n=int(input('enter n: '))\n",
    "try:\n",
    "    print(m+n)\n",
    "    print(m-n)\n",
    "    print(m*n)\n",
    "    print(m/n)\n",
    "except:\n",
    "    print(\"b can't be zero\")\n",
    "print(\"after the error\")"
   ]
  },
  {
   "cell_type": "code",
   "execution_count": null,
   "id": "da0e44c4",
   "metadata": {},
   "outputs": [],
   "source": [
    "l=[]\n",
    "for i in range(5):\n",
    "    try:\n",
    "        k=int(input())\n",
    "        l.append(k)\n",
    "    except:\n",
    "        print(\"this is not an int\")\n",
    "print(l)"
   ]
  },
  {
   "cell_type": "code",
   "execution_count": null,
   "id": "1b73a5f0",
   "metadata": {},
   "outputs": [],
   "source": []
  },
  {
   "cell_type": "code",
   "execution_count": null,
   "id": "c1a893b9",
   "metadata": {},
   "outputs": [],
   "source": []
  },
  {
   "cell_type": "code",
   "execution_count": null,
   "id": "86ef40a8",
   "metadata": {},
   "outputs": [],
   "source": []
  },
  {
   "cell_type": "code",
   "execution_count": null,
   "id": "a7a04fb0",
   "metadata": {},
   "outputs": [],
   "source": []
  }
 ],
 "metadata": {
  "kernelspec": {
   "display_name": "Python 3 (ipykernel)",
   "language": "python",
   "name": "python3"
  },
  "language_info": {
   "codemirror_mode": {
    "name": "ipython",
    "version": 3
   },
   "file_extension": ".py",
   "mimetype": "text/x-python",
   "name": "python",
   "nbconvert_exporter": "python",
   "pygments_lexer": "ipython3",
   "version": "3.9.13"
  }
 },
 "nbformat": 4,
 "nbformat_minor": 5
}
